{
  "nbformat": 4,
  "nbformat_minor": 0,
  "metadata": {
    "colab": {
      "provenance": [],
      "collapsed_sections": []
    },
    "kernelspec": {
      "name": "python3",
      "display_name": "Python 3"
    },
    "language_info": {
      "name": "python"
    }
  },
  "cells": [
    {
      "cell_type": "markdown",
      "source": [
        "### **Carbon Emission Prediction on the World Bank Dataset for Canada**"
      ],
      "metadata": {
        "id": "C6WKNEr3OiOf"
      }
    },
    {
      "cell_type": "code",
      "execution_count": null,
      "metadata": {
        "id": "EU0SyYlcBtNJ"
      },
      "outputs": [],
      "source": [
        "import pandas as pd\n",
        "import numpy as np\n",
        "import warnings\n",
        "import matplotlib.pyplot as plt\n",
        "warnings.filterwarnings('ignore')"
      ]
    },
    {
      "cell_type": "code",
      "source": [
        "from google.colab import drive\n",
        "drive.mount('/content/drive')"
      ],
      "metadata": {
        "colab": {
          "base_uri": "https://localhost:8080/"
        },
        "id": "8w31pNVhBCyZ",
        "outputId": "67023ddc-595f-401d-caf6-a07ac10c431e"
      },
      "execution_count": null,
      "outputs": [
        {
          "output_type": "stream",
          "name": "stdout",
          "text": [
            "Mounted at /content/drive\n"
          ]
        }
      ]
    },
    {
      "cell_type": "code",
      "source": [
        "df = pd.read_csv('/content/dataset.csv')"
      ],
      "metadata": {
        "id": "5a0WoeeoBtuW"
      },
      "execution_count": null,
      "outputs": []
    },
    {
      "cell_type": "code",
      "source": [
        "df"
      ],
      "metadata": {
        "id": "T63GpHTtr7RS",
        "colab": {
          "base_uri": "https://localhost:8080/",
          "height": 626
        },
        "outputId": "582c0183-301d-4f69-e3fd-0f8c4d2b1b78"
      },
      "execution_count": null,
      "outputs": [
        {
          "output_type": "execute_result",
          "data": {
            "text/plain": [
              "                    Country Name        1960        1961        1962  \\\n",
              "0                          Aruba  204.631696  208.837879  226.081890   \n",
              "1    Africa Eastern and Southern    0.906060    0.922474    0.930816   \n",
              "2                    Afghanistan    0.046057    0.053589    0.073721   \n",
              "3     Africa Western and Central    0.090880    0.095283    0.096612   \n",
              "4                         Angola    0.100835    0.082204    0.210533   \n",
              "..                           ...         ...         ...         ...   \n",
              "261                       Kosovo         NaN         NaN         NaN   \n",
              "262                  Yemen, Rep.    0.011038    0.013599    0.012729   \n",
              "263                 South Africa    5.727223    5.832621    5.887168   \n",
              "264                       Zambia         NaN         NaN         NaN   \n",
              "265                     Zimbabwe         NaN         NaN         NaN   \n",
              "\n",
              "           1963        1964        1965        1966        1967        1968  \\\n",
              "0    214.785217  207.626699  185.213644  172.158729  210.819017  194.917536   \n",
              "1      0.940570    0.996033    1.047280    1.033908    1.052204    1.079727   \n",
              "2      0.074161    0.086174    0.101285    0.107399    0.123409    0.115142   \n",
              "3      0.112376    0.133258    0.184803    0.193676    0.189305    0.143989   \n",
              "4      0.202739    0.213562    0.205891    0.268937    0.172096    0.289702   \n",
              "..          ...         ...         ...         ...         ...         ...   \n",
              "261         NaN         NaN         NaN         NaN         NaN         NaN   \n",
              "262    0.014518    0.017550    0.017926    0.017023    0.017380    0.021384   \n",
              "263    5.961337    6.332343    6.616545    6.453858    6.560824    6.593620   \n",
              "264         NaN    0.946606    1.096875    0.951122    1.261960    1.166853   \n",
              "265         NaN    1.034904    1.166242    1.307904    1.108579    1.291861   \n",
              "\n",
              "     ...      2009      2010      2011      2012      2013      2014  \\\n",
              "0    ...       NaN       NaN       NaN       NaN       NaN       NaN   \n",
              "1    ...  1.021954  1.048876  1.005338  1.021646  1.031833  1.041145   \n",
              "2    ...  0.211306  0.297065  0.407074  0.335351  0.263716  0.234037   \n",
              "3    ...  0.426770  0.472819  0.497023  0.490867  0.504655  0.507671   \n",
              "4    ...  1.205902  1.221515  1.216317  1.204799  1.261542  1.285365   \n",
              "..   ...       ...       ...       ...       ...       ...       ...   \n",
              "261  ...       NaN       NaN       NaN       NaN       NaN       NaN   \n",
              "262  ...  1.139166  1.036068  0.869051  0.804146  1.047834  1.034330   \n",
              "263  ...  8.004039  8.300179  7.867124  8.076633  8.137333  8.213158   \n",
              "264  ...  0.186907  0.194032  0.218210  0.277909  0.284058  0.311693   \n",
              "265  ...  0.618665  0.772579  0.891090  0.923360  0.925816  0.894256   \n",
              "\n",
              "         2015      2016      2017      2018  \n",
              "0         NaN       NaN       NaN       NaN  \n",
              "1    0.987393  0.971016  0.959978  0.933541  \n",
              "2    0.232176  0.208857  0.203328  0.200151  \n",
              "3    0.480743  0.472959  0.476438  0.515544  \n",
              "4    1.260921  1.227703  1.034317  0.887380  \n",
              "..        ...       ...       ...       ...  \n",
              "261       NaN       NaN       NaN       NaN  \n",
              "262  0.536269  0.400468  0.361418  0.326682  \n",
              "263  7.671202  7.564451  7.632729  7.496645  \n",
              "264  0.319282  0.341615  0.414748  0.446065  \n",
              "265  0.897598  0.783303  0.718570  0.849793  \n",
              "\n",
              "[266 rows x 60 columns]"
            ],
            "text/html": [
              "\n",
              "  <div id=\"df-00ee5143-45cb-425e-a7a9-abe82ce17dbd\">\n",
              "    <div class=\"colab-df-container\">\n",
              "      <div>\n",
              "<style scoped>\n",
              "    .dataframe tbody tr th:only-of-type {\n",
              "        vertical-align: middle;\n",
              "    }\n",
              "\n",
              "    .dataframe tbody tr th {\n",
              "        vertical-align: top;\n",
              "    }\n",
              "\n",
              "    .dataframe thead th {\n",
              "        text-align: right;\n",
              "    }\n",
              "</style>\n",
              "<table border=\"1\" class=\"dataframe\">\n",
              "  <thead>\n",
              "    <tr style=\"text-align: right;\">\n",
              "      <th></th>\n",
              "      <th>Country Name</th>\n",
              "      <th>1960</th>\n",
              "      <th>1961</th>\n",
              "      <th>1962</th>\n",
              "      <th>1963</th>\n",
              "      <th>1964</th>\n",
              "      <th>1965</th>\n",
              "      <th>1966</th>\n",
              "      <th>1967</th>\n",
              "      <th>1968</th>\n",
              "      <th>...</th>\n",
              "      <th>2009</th>\n",
              "      <th>2010</th>\n",
              "      <th>2011</th>\n",
              "      <th>2012</th>\n",
              "      <th>2013</th>\n",
              "      <th>2014</th>\n",
              "      <th>2015</th>\n",
              "      <th>2016</th>\n",
              "      <th>2017</th>\n",
              "      <th>2018</th>\n",
              "    </tr>\n",
              "  </thead>\n",
              "  <tbody>\n",
              "    <tr>\n",
              "      <th>0</th>\n",
              "      <td>Aruba</td>\n",
              "      <td>204.631696</td>\n",
              "      <td>208.837879</td>\n",
              "      <td>226.081890</td>\n",
              "      <td>214.785217</td>\n",
              "      <td>207.626699</td>\n",
              "      <td>185.213644</td>\n",
              "      <td>172.158729</td>\n",
              "      <td>210.819017</td>\n",
              "      <td>194.917536</td>\n",
              "      <td>...</td>\n",
              "      <td>NaN</td>\n",
              "      <td>NaN</td>\n",
              "      <td>NaN</td>\n",
              "      <td>NaN</td>\n",
              "      <td>NaN</td>\n",
              "      <td>NaN</td>\n",
              "      <td>NaN</td>\n",
              "      <td>NaN</td>\n",
              "      <td>NaN</td>\n",
              "      <td>NaN</td>\n",
              "    </tr>\n",
              "    <tr>\n",
              "      <th>1</th>\n",
              "      <td>Africa Eastern and Southern</td>\n",
              "      <td>0.906060</td>\n",
              "      <td>0.922474</td>\n",
              "      <td>0.930816</td>\n",
              "      <td>0.940570</td>\n",
              "      <td>0.996033</td>\n",
              "      <td>1.047280</td>\n",
              "      <td>1.033908</td>\n",
              "      <td>1.052204</td>\n",
              "      <td>1.079727</td>\n",
              "      <td>...</td>\n",
              "      <td>1.021954</td>\n",
              "      <td>1.048876</td>\n",
              "      <td>1.005338</td>\n",
              "      <td>1.021646</td>\n",
              "      <td>1.031833</td>\n",
              "      <td>1.041145</td>\n",
              "      <td>0.987393</td>\n",
              "      <td>0.971016</td>\n",
              "      <td>0.959978</td>\n",
              "      <td>0.933541</td>\n",
              "    </tr>\n",
              "    <tr>\n",
              "      <th>2</th>\n",
              "      <td>Afghanistan</td>\n",
              "      <td>0.046057</td>\n",
              "      <td>0.053589</td>\n",
              "      <td>0.073721</td>\n",
              "      <td>0.074161</td>\n",
              "      <td>0.086174</td>\n",
              "      <td>0.101285</td>\n",
              "      <td>0.107399</td>\n",
              "      <td>0.123409</td>\n",
              "      <td>0.115142</td>\n",
              "      <td>...</td>\n",
              "      <td>0.211306</td>\n",
              "      <td>0.297065</td>\n",
              "      <td>0.407074</td>\n",
              "      <td>0.335351</td>\n",
              "      <td>0.263716</td>\n",
              "      <td>0.234037</td>\n",
              "      <td>0.232176</td>\n",
              "      <td>0.208857</td>\n",
              "      <td>0.203328</td>\n",
              "      <td>0.200151</td>\n",
              "    </tr>\n",
              "    <tr>\n",
              "      <th>3</th>\n",
              "      <td>Africa Western and Central</td>\n",
              "      <td>0.090880</td>\n",
              "      <td>0.095283</td>\n",
              "      <td>0.096612</td>\n",
              "      <td>0.112376</td>\n",
              "      <td>0.133258</td>\n",
              "      <td>0.184803</td>\n",
              "      <td>0.193676</td>\n",
              "      <td>0.189305</td>\n",
              "      <td>0.143989</td>\n",
              "      <td>...</td>\n",
              "      <td>0.426770</td>\n",
              "      <td>0.472819</td>\n",
              "      <td>0.497023</td>\n",
              "      <td>0.490867</td>\n",
              "      <td>0.504655</td>\n",
              "      <td>0.507671</td>\n",
              "      <td>0.480743</td>\n",
              "      <td>0.472959</td>\n",
              "      <td>0.476438</td>\n",
              "      <td>0.515544</td>\n",
              "    </tr>\n",
              "    <tr>\n",
              "      <th>4</th>\n",
              "      <td>Angola</td>\n",
              "      <td>0.100835</td>\n",
              "      <td>0.082204</td>\n",
              "      <td>0.210533</td>\n",
              "      <td>0.202739</td>\n",
              "      <td>0.213562</td>\n",
              "      <td>0.205891</td>\n",
              "      <td>0.268937</td>\n",
              "      <td>0.172096</td>\n",
              "      <td>0.289702</td>\n",
              "      <td>...</td>\n",
              "      <td>1.205902</td>\n",
              "      <td>1.221515</td>\n",
              "      <td>1.216317</td>\n",
              "      <td>1.204799</td>\n",
              "      <td>1.261542</td>\n",
              "      <td>1.285365</td>\n",
              "      <td>1.260921</td>\n",
              "      <td>1.227703</td>\n",
              "      <td>1.034317</td>\n",
              "      <td>0.887380</td>\n",
              "    </tr>\n",
              "    <tr>\n",
              "      <th>...</th>\n",
              "      <td>...</td>\n",
              "      <td>...</td>\n",
              "      <td>...</td>\n",
              "      <td>...</td>\n",
              "      <td>...</td>\n",
              "      <td>...</td>\n",
              "      <td>...</td>\n",
              "      <td>...</td>\n",
              "      <td>...</td>\n",
              "      <td>...</td>\n",
              "      <td>...</td>\n",
              "      <td>...</td>\n",
              "      <td>...</td>\n",
              "      <td>...</td>\n",
              "      <td>...</td>\n",
              "      <td>...</td>\n",
              "      <td>...</td>\n",
              "      <td>...</td>\n",
              "      <td>...</td>\n",
              "      <td>...</td>\n",
              "      <td>...</td>\n",
              "    </tr>\n",
              "    <tr>\n",
              "      <th>261</th>\n",
              "      <td>Kosovo</td>\n",
              "      <td>NaN</td>\n",
              "      <td>NaN</td>\n",
              "      <td>NaN</td>\n",
              "      <td>NaN</td>\n",
              "      <td>NaN</td>\n",
              "      <td>NaN</td>\n",
              "      <td>NaN</td>\n",
              "      <td>NaN</td>\n",
              "      <td>NaN</td>\n",
              "      <td>...</td>\n",
              "      <td>NaN</td>\n",
              "      <td>NaN</td>\n",
              "      <td>NaN</td>\n",
              "      <td>NaN</td>\n",
              "      <td>NaN</td>\n",
              "      <td>NaN</td>\n",
              "      <td>NaN</td>\n",
              "      <td>NaN</td>\n",
              "      <td>NaN</td>\n",
              "      <td>NaN</td>\n",
              "    </tr>\n",
              "    <tr>\n",
              "      <th>262</th>\n",
              "      <td>Yemen, Rep.</td>\n",
              "      <td>0.011038</td>\n",
              "      <td>0.013599</td>\n",
              "      <td>0.012729</td>\n",
              "      <td>0.014518</td>\n",
              "      <td>0.017550</td>\n",
              "      <td>0.017926</td>\n",
              "      <td>0.017023</td>\n",
              "      <td>0.017380</td>\n",
              "      <td>0.021384</td>\n",
              "      <td>...</td>\n",
              "      <td>1.139166</td>\n",
              "      <td>1.036068</td>\n",
              "      <td>0.869051</td>\n",
              "      <td>0.804146</td>\n",
              "      <td>1.047834</td>\n",
              "      <td>1.034330</td>\n",
              "      <td>0.536269</td>\n",
              "      <td>0.400468</td>\n",
              "      <td>0.361418</td>\n",
              "      <td>0.326682</td>\n",
              "    </tr>\n",
              "    <tr>\n",
              "      <th>263</th>\n",
              "      <td>South Africa</td>\n",
              "      <td>5.727223</td>\n",
              "      <td>5.832621</td>\n",
              "      <td>5.887168</td>\n",
              "      <td>5.961337</td>\n",
              "      <td>6.332343</td>\n",
              "      <td>6.616545</td>\n",
              "      <td>6.453858</td>\n",
              "      <td>6.560824</td>\n",
              "      <td>6.593620</td>\n",
              "      <td>...</td>\n",
              "      <td>8.004039</td>\n",
              "      <td>8.300179</td>\n",
              "      <td>7.867124</td>\n",
              "      <td>8.076633</td>\n",
              "      <td>8.137333</td>\n",
              "      <td>8.213158</td>\n",
              "      <td>7.671202</td>\n",
              "      <td>7.564451</td>\n",
              "      <td>7.632729</td>\n",
              "      <td>7.496645</td>\n",
              "    </tr>\n",
              "    <tr>\n",
              "      <th>264</th>\n",
              "      <td>Zambia</td>\n",
              "      <td>NaN</td>\n",
              "      <td>NaN</td>\n",
              "      <td>NaN</td>\n",
              "      <td>NaN</td>\n",
              "      <td>0.946606</td>\n",
              "      <td>1.096875</td>\n",
              "      <td>0.951122</td>\n",
              "      <td>1.261960</td>\n",
              "      <td>1.166853</td>\n",
              "      <td>...</td>\n",
              "      <td>0.186907</td>\n",
              "      <td>0.194032</td>\n",
              "      <td>0.218210</td>\n",
              "      <td>0.277909</td>\n",
              "      <td>0.284058</td>\n",
              "      <td>0.311693</td>\n",
              "      <td>0.319282</td>\n",
              "      <td>0.341615</td>\n",
              "      <td>0.414748</td>\n",
              "      <td>0.446065</td>\n",
              "    </tr>\n",
              "    <tr>\n",
              "      <th>265</th>\n",
              "      <td>Zimbabwe</td>\n",
              "      <td>NaN</td>\n",
              "      <td>NaN</td>\n",
              "      <td>NaN</td>\n",
              "      <td>NaN</td>\n",
              "      <td>1.034904</td>\n",
              "      <td>1.166242</td>\n",
              "      <td>1.307904</td>\n",
              "      <td>1.108579</td>\n",
              "      <td>1.291861</td>\n",
              "      <td>...</td>\n",
              "      <td>0.618665</td>\n",
              "      <td>0.772579</td>\n",
              "      <td>0.891090</td>\n",
              "      <td>0.923360</td>\n",
              "      <td>0.925816</td>\n",
              "      <td>0.894256</td>\n",
              "      <td>0.897598</td>\n",
              "      <td>0.783303</td>\n",
              "      <td>0.718570</td>\n",
              "      <td>0.849793</td>\n",
              "    </tr>\n",
              "  </tbody>\n",
              "</table>\n",
              "<p>266 rows × 60 columns</p>\n",
              "</div>\n",
              "      <button class=\"colab-df-convert\" onclick=\"convertToInteractive('df-00ee5143-45cb-425e-a7a9-abe82ce17dbd')\"\n",
              "              title=\"Convert this dataframe to an interactive table.\"\n",
              "              style=\"display:none;\">\n",
              "        \n",
              "  <svg xmlns=\"http://www.w3.org/2000/svg\" height=\"24px\"viewBox=\"0 0 24 24\"\n",
              "       width=\"24px\">\n",
              "    <path d=\"M0 0h24v24H0V0z\" fill=\"none\"/>\n",
              "    <path d=\"M18.56 5.44l.94 2.06.94-2.06 2.06-.94-2.06-.94-.94-2.06-.94 2.06-2.06.94zm-11 1L8.5 8.5l.94-2.06 2.06-.94-2.06-.94L8.5 2.5l-.94 2.06-2.06.94zm10 10l.94 2.06.94-2.06 2.06-.94-2.06-.94-.94-2.06-.94 2.06-2.06.94z\"/><path d=\"M17.41 7.96l-1.37-1.37c-.4-.4-.92-.59-1.43-.59-.52 0-1.04.2-1.43.59L10.3 9.45l-7.72 7.72c-.78.78-.78 2.05 0 2.83L4 21.41c.39.39.9.59 1.41.59.51 0 1.02-.2 1.41-.59l7.78-7.78 2.81-2.81c.8-.78.8-2.07 0-2.86zM5.41 20L4 18.59l7.72-7.72 1.47 1.35L5.41 20z\"/>\n",
              "  </svg>\n",
              "      </button>\n",
              "      \n",
              "  <style>\n",
              "    .colab-df-container {\n",
              "      display:flex;\n",
              "      flex-wrap:wrap;\n",
              "      gap: 12px;\n",
              "    }\n",
              "\n",
              "    .colab-df-convert {\n",
              "      background-color: #E8F0FE;\n",
              "      border: none;\n",
              "      border-radius: 50%;\n",
              "      cursor: pointer;\n",
              "      display: none;\n",
              "      fill: #1967D2;\n",
              "      height: 32px;\n",
              "      padding: 0 0 0 0;\n",
              "      width: 32px;\n",
              "    }\n",
              "\n",
              "    .colab-df-convert:hover {\n",
              "      background-color: #E2EBFA;\n",
              "      box-shadow: 0px 1px 2px rgba(60, 64, 67, 0.3), 0px 1px 3px 1px rgba(60, 64, 67, 0.15);\n",
              "      fill: #174EA6;\n",
              "    }\n",
              "\n",
              "    [theme=dark] .colab-df-convert {\n",
              "      background-color: #3B4455;\n",
              "      fill: #D2E3FC;\n",
              "    }\n",
              "\n",
              "    [theme=dark] .colab-df-convert:hover {\n",
              "      background-color: #434B5C;\n",
              "      box-shadow: 0px 1px 3px 1px rgba(0, 0, 0, 0.15);\n",
              "      filter: drop-shadow(0px 1px 2px rgba(0, 0, 0, 0.3));\n",
              "      fill: #FFFFFF;\n",
              "    }\n",
              "  </style>\n",
              "\n",
              "      <script>\n",
              "        const buttonEl =\n",
              "          document.querySelector('#df-00ee5143-45cb-425e-a7a9-abe82ce17dbd button.colab-df-convert');\n",
              "        buttonEl.style.display =\n",
              "          google.colab.kernel.accessAllowed ? 'block' : 'none';\n",
              "\n",
              "        async function convertToInteractive(key) {\n",
              "          const element = document.querySelector('#df-00ee5143-45cb-425e-a7a9-abe82ce17dbd');\n",
              "          const dataTable =\n",
              "            await google.colab.kernel.invokeFunction('convertToInteractive',\n",
              "                                                     [key], {});\n",
              "          if (!dataTable) return;\n",
              "\n",
              "          const docLinkHtml = 'Like what you see? Visit the ' +\n",
              "            '<a target=\"_blank\" href=https://colab.research.google.com/notebooks/data_table.ipynb>data table notebook</a>'\n",
              "            + ' to learn more about interactive tables.';\n",
              "          element.innerHTML = '';\n",
              "          dataTable['output_type'] = 'display_data';\n",
              "          await google.colab.output.renderOutput(dataTable, element);\n",
              "          const docLink = document.createElement('div');\n",
              "          docLink.innerHTML = docLinkHtml;\n",
              "          element.appendChild(docLink);\n",
              "        }\n",
              "      </script>\n",
              "    </div>\n",
              "  </div>\n",
              "  "
            ]
          },
          "metadata": {},
          "execution_count": 5
        }
      ]
    },
    {
      "cell_type": "code",
      "source": [
        "df_canada = df[df['Country Name'] == 'Canada']\n",
        "df_canada = df_canada.drop('Country Name',axis =1)\n",
        "\n",
        "Year = df_canada.columns"
      ],
      "metadata": {
        "id": "BorJpqvDB8aM"
      },
      "execution_count": null,
      "outputs": []
    },
    {
      "cell_type": "code",
      "source": [
        "canada_df = df_canada.T"
      ],
      "metadata": {
        "id": "MFI-dvlOF0pK"
      },
      "execution_count": null,
      "outputs": []
    },
    {
      "cell_type": "code",
      "source": [
        "canada_df.head()"
      ],
      "metadata": {
        "id": "_HBYdSJFF0mn",
        "colab": {
          "base_uri": "https://localhost:8080/",
          "height": 206
        },
        "outputId": "9aef98f8-0ae7-4a73-c574-74a9aec48f54"
      },
      "execution_count": null,
      "outputs": [
        {
          "output_type": "execute_result",
          "data": {
            "text/plain": [
              "             35\n",
              "1960  10.770847\n",
              "1961  10.627898\n",
              "1962  11.130627\n",
              "1963  11.132102\n",
              "1964  12.305370"
            ],
            "text/html": [
              "\n",
              "  <div id=\"df-b3933fdf-cb17-4ae9-88bc-622f4a374437\">\n",
              "    <div class=\"colab-df-container\">\n",
              "      <div>\n",
              "<style scoped>\n",
              "    .dataframe tbody tr th:only-of-type {\n",
              "        vertical-align: middle;\n",
              "    }\n",
              "\n",
              "    .dataframe tbody tr th {\n",
              "        vertical-align: top;\n",
              "    }\n",
              "\n",
              "    .dataframe thead th {\n",
              "        text-align: right;\n",
              "    }\n",
              "</style>\n",
              "<table border=\"1\" class=\"dataframe\">\n",
              "  <thead>\n",
              "    <tr style=\"text-align: right;\">\n",
              "      <th></th>\n",
              "      <th>35</th>\n",
              "    </tr>\n",
              "  </thead>\n",
              "  <tbody>\n",
              "    <tr>\n",
              "      <th>1960</th>\n",
              "      <td>10.770847</td>\n",
              "    </tr>\n",
              "    <tr>\n",
              "      <th>1961</th>\n",
              "      <td>10.627898</td>\n",
              "    </tr>\n",
              "    <tr>\n",
              "      <th>1962</th>\n",
              "      <td>11.130627</td>\n",
              "    </tr>\n",
              "    <tr>\n",
              "      <th>1963</th>\n",
              "      <td>11.132102</td>\n",
              "    </tr>\n",
              "    <tr>\n",
              "      <th>1964</th>\n",
              "      <td>12.305370</td>\n",
              "    </tr>\n",
              "  </tbody>\n",
              "</table>\n",
              "</div>\n",
              "      <button class=\"colab-df-convert\" onclick=\"convertToInteractive('df-b3933fdf-cb17-4ae9-88bc-622f4a374437')\"\n",
              "              title=\"Convert this dataframe to an interactive table.\"\n",
              "              style=\"display:none;\">\n",
              "        \n",
              "  <svg xmlns=\"http://www.w3.org/2000/svg\" height=\"24px\"viewBox=\"0 0 24 24\"\n",
              "       width=\"24px\">\n",
              "    <path d=\"M0 0h24v24H0V0z\" fill=\"none\"/>\n",
              "    <path d=\"M18.56 5.44l.94 2.06.94-2.06 2.06-.94-2.06-.94-.94-2.06-.94 2.06-2.06.94zm-11 1L8.5 8.5l.94-2.06 2.06-.94-2.06-.94L8.5 2.5l-.94 2.06-2.06.94zm10 10l.94 2.06.94-2.06 2.06-.94-2.06-.94-.94-2.06-.94 2.06-2.06.94z\"/><path d=\"M17.41 7.96l-1.37-1.37c-.4-.4-.92-.59-1.43-.59-.52 0-1.04.2-1.43.59L10.3 9.45l-7.72 7.72c-.78.78-.78 2.05 0 2.83L4 21.41c.39.39.9.59 1.41.59.51 0 1.02-.2 1.41-.59l7.78-7.78 2.81-2.81c.8-.78.8-2.07 0-2.86zM5.41 20L4 18.59l7.72-7.72 1.47 1.35L5.41 20z\"/>\n",
              "  </svg>\n",
              "      </button>\n",
              "      \n",
              "  <style>\n",
              "    .colab-df-container {\n",
              "      display:flex;\n",
              "      flex-wrap:wrap;\n",
              "      gap: 12px;\n",
              "    }\n",
              "\n",
              "    .colab-df-convert {\n",
              "      background-color: #E8F0FE;\n",
              "      border: none;\n",
              "      border-radius: 50%;\n",
              "      cursor: pointer;\n",
              "      display: none;\n",
              "      fill: #1967D2;\n",
              "      height: 32px;\n",
              "      padding: 0 0 0 0;\n",
              "      width: 32px;\n",
              "    }\n",
              "\n",
              "    .colab-df-convert:hover {\n",
              "      background-color: #E2EBFA;\n",
              "      box-shadow: 0px 1px 2px rgba(60, 64, 67, 0.3), 0px 1px 3px 1px rgba(60, 64, 67, 0.15);\n",
              "      fill: #174EA6;\n",
              "    }\n",
              "\n",
              "    [theme=dark] .colab-df-convert {\n",
              "      background-color: #3B4455;\n",
              "      fill: #D2E3FC;\n",
              "    }\n",
              "\n",
              "    [theme=dark] .colab-df-convert:hover {\n",
              "      background-color: #434B5C;\n",
              "      box-shadow: 0px 1px 3px 1px rgba(0, 0, 0, 0.15);\n",
              "      filter: drop-shadow(0px 1px 2px rgba(0, 0, 0, 0.3));\n",
              "      fill: #FFFFFF;\n",
              "    }\n",
              "  </style>\n",
              "\n",
              "      <script>\n",
              "        const buttonEl =\n",
              "          document.querySelector('#df-b3933fdf-cb17-4ae9-88bc-622f4a374437 button.colab-df-convert');\n",
              "        buttonEl.style.display =\n",
              "          google.colab.kernel.accessAllowed ? 'block' : 'none';\n",
              "\n",
              "        async function convertToInteractive(key) {\n",
              "          const element = document.querySelector('#df-b3933fdf-cb17-4ae9-88bc-622f4a374437');\n",
              "          const dataTable =\n",
              "            await google.colab.kernel.invokeFunction('convertToInteractive',\n",
              "                                                     [key], {});\n",
              "          if (!dataTable) return;\n",
              "\n",
              "          const docLinkHtml = 'Like what you see? Visit the ' +\n",
              "            '<a target=\"_blank\" href=https://colab.research.google.com/notebooks/data_table.ipynb>data table notebook</a>'\n",
              "            + ' to learn more about interactive tables.';\n",
              "          element.innerHTML = '';\n",
              "          dataTable['output_type'] = 'display_data';\n",
              "          await google.colab.output.renderOutput(dataTable, element);\n",
              "          const docLink = document.createElement('div');\n",
              "          docLink.innerHTML = docLinkHtml;\n",
              "          element.appendChild(docLink);\n",
              "        }\n",
              "      </script>\n",
              "    </div>\n",
              "  </div>\n",
              "  "
            ]
          },
          "metadata": {},
          "execution_count": 8
        }
      ]
    },
    {
      "cell_type": "code",
      "source": [
        "columns = ['Emission']\n",
        "canada_df.columns = columns"
      ],
      "metadata": {
        "id": "iaaIdlGnKTzQ"
      },
      "execution_count": null,
      "outputs": []
    },
    {
      "cell_type": "code",
      "source": [
        "canada_df.head()"
      ],
      "metadata": {
        "id": "AGn1oBIaKTxH",
        "colab": {
          "base_uri": "https://localhost:8080/",
          "height": 206
        },
        "outputId": "cefa52aa-0166-497b-facd-1edbd5e72451"
      },
      "execution_count": null,
      "outputs": [
        {
          "output_type": "execute_result",
          "data": {
            "text/plain": [
              "       Emission\n",
              "1960  10.770847\n",
              "1961  10.627898\n",
              "1962  11.130627\n",
              "1963  11.132102\n",
              "1964  12.305370"
            ],
            "text/html": [
              "\n",
              "  <div id=\"df-f20ff25c-068b-4250-89d3-39f85d26a572\">\n",
              "    <div class=\"colab-df-container\">\n",
              "      <div>\n",
              "<style scoped>\n",
              "    .dataframe tbody tr th:only-of-type {\n",
              "        vertical-align: middle;\n",
              "    }\n",
              "\n",
              "    .dataframe tbody tr th {\n",
              "        vertical-align: top;\n",
              "    }\n",
              "\n",
              "    .dataframe thead th {\n",
              "        text-align: right;\n",
              "    }\n",
              "</style>\n",
              "<table border=\"1\" class=\"dataframe\">\n",
              "  <thead>\n",
              "    <tr style=\"text-align: right;\">\n",
              "      <th></th>\n",
              "      <th>Emission</th>\n",
              "    </tr>\n",
              "  </thead>\n",
              "  <tbody>\n",
              "    <tr>\n",
              "      <th>1960</th>\n",
              "      <td>10.770847</td>\n",
              "    </tr>\n",
              "    <tr>\n",
              "      <th>1961</th>\n",
              "      <td>10.627898</td>\n",
              "    </tr>\n",
              "    <tr>\n",
              "      <th>1962</th>\n",
              "      <td>11.130627</td>\n",
              "    </tr>\n",
              "    <tr>\n",
              "      <th>1963</th>\n",
              "      <td>11.132102</td>\n",
              "    </tr>\n",
              "    <tr>\n",
              "      <th>1964</th>\n",
              "      <td>12.305370</td>\n",
              "    </tr>\n",
              "  </tbody>\n",
              "</table>\n",
              "</div>\n",
              "      <button class=\"colab-df-convert\" onclick=\"convertToInteractive('df-f20ff25c-068b-4250-89d3-39f85d26a572')\"\n",
              "              title=\"Convert this dataframe to an interactive table.\"\n",
              "              style=\"display:none;\">\n",
              "        \n",
              "  <svg xmlns=\"http://www.w3.org/2000/svg\" height=\"24px\"viewBox=\"0 0 24 24\"\n",
              "       width=\"24px\">\n",
              "    <path d=\"M0 0h24v24H0V0z\" fill=\"none\"/>\n",
              "    <path d=\"M18.56 5.44l.94 2.06.94-2.06 2.06-.94-2.06-.94-.94-2.06-.94 2.06-2.06.94zm-11 1L8.5 8.5l.94-2.06 2.06-.94-2.06-.94L8.5 2.5l-.94 2.06-2.06.94zm10 10l.94 2.06.94-2.06 2.06-.94-2.06-.94-.94-2.06-.94 2.06-2.06.94z\"/><path d=\"M17.41 7.96l-1.37-1.37c-.4-.4-.92-.59-1.43-.59-.52 0-1.04.2-1.43.59L10.3 9.45l-7.72 7.72c-.78.78-.78 2.05 0 2.83L4 21.41c.39.39.9.59 1.41.59.51 0 1.02-.2 1.41-.59l7.78-7.78 2.81-2.81c.8-.78.8-2.07 0-2.86zM5.41 20L4 18.59l7.72-7.72 1.47 1.35L5.41 20z\"/>\n",
              "  </svg>\n",
              "      </button>\n",
              "      \n",
              "  <style>\n",
              "    .colab-df-container {\n",
              "      display:flex;\n",
              "      flex-wrap:wrap;\n",
              "      gap: 12px;\n",
              "    }\n",
              "\n",
              "    .colab-df-convert {\n",
              "      background-color: #E8F0FE;\n",
              "      border: none;\n",
              "      border-radius: 50%;\n",
              "      cursor: pointer;\n",
              "      display: none;\n",
              "      fill: #1967D2;\n",
              "      height: 32px;\n",
              "      padding: 0 0 0 0;\n",
              "      width: 32px;\n",
              "    }\n",
              "\n",
              "    .colab-df-convert:hover {\n",
              "      background-color: #E2EBFA;\n",
              "      box-shadow: 0px 1px 2px rgba(60, 64, 67, 0.3), 0px 1px 3px 1px rgba(60, 64, 67, 0.15);\n",
              "      fill: #174EA6;\n",
              "    }\n",
              "\n",
              "    [theme=dark] .colab-df-convert {\n",
              "      background-color: #3B4455;\n",
              "      fill: #D2E3FC;\n",
              "    }\n",
              "\n",
              "    [theme=dark] .colab-df-convert:hover {\n",
              "      background-color: #434B5C;\n",
              "      box-shadow: 0px 1px 3px 1px rgba(0, 0, 0, 0.15);\n",
              "      filter: drop-shadow(0px 1px 2px rgba(0, 0, 0, 0.3));\n",
              "      fill: #FFFFFF;\n",
              "    }\n",
              "  </style>\n",
              "\n",
              "      <script>\n",
              "        const buttonEl =\n",
              "          document.querySelector('#df-f20ff25c-068b-4250-89d3-39f85d26a572 button.colab-df-convert');\n",
              "        buttonEl.style.display =\n",
              "          google.colab.kernel.accessAllowed ? 'block' : 'none';\n",
              "\n",
              "        async function convertToInteractive(key) {\n",
              "          const element = document.querySelector('#df-f20ff25c-068b-4250-89d3-39f85d26a572');\n",
              "          const dataTable =\n",
              "            await google.colab.kernel.invokeFunction('convertToInteractive',\n",
              "                                                     [key], {});\n",
              "          if (!dataTable) return;\n",
              "\n",
              "          const docLinkHtml = 'Like what you see? Visit the ' +\n",
              "            '<a target=\"_blank\" href=https://colab.research.google.com/notebooks/data_table.ipynb>data table notebook</a>'\n",
              "            + ' to learn more about interactive tables.';\n",
              "          element.innerHTML = '';\n",
              "          dataTable['output_type'] = 'display_data';\n",
              "          await google.colab.output.renderOutput(dataTable, element);\n",
              "          const docLink = document.createElement('div');\n",
              "          docLink.innerHTML = docLinkHtml;\n",
              "          element.appendChild(docLink);\n",
              "        }\n",
              "      </script>\n",
              "    </div>\n",
              "  </div>\n",
              "  "
            ]
          },
          "metadata": {},
          "execution_count": 10
        }
      ]
    },
    {
      "cell_type": "code",
      "source": [
        "canada_df.reset_index(inplace=True)\n",
        "canada_df = canada_df.rename(columns = {'index':'Year'})\n",
        "canada_df.head()"
      ],
      "metadata": {
        "id": "uvsKTxDkKTuX",
        "colab": {
          "base_uri": "https://localhost:8080/",
          "height": 206
        },
        "outputId": "bb975221-6a23-4677-dbfd-d4648cb5e17e"
      },
      "execution_count": null,
      "outputs": [
        {
          "output_type": "execute_result",
          "data": {
            "text/plain": [
              "   Year   Emission\n",
              "0  1960  10.770847\n",
              "1  1961  10.627898\n",
              "2  1962  11.130627\n",
              "3  1963  11.132102\n",
              "4  1964  12.305370"
            ],
            "text/html": [
              "\n",
              "  <div id=\"df-10f969df-d16a-45ce-9ff0-b97b0d2f7be4\">\n",
              "    <div class=\"colab-df-container\">\n",
              "      <div>\n",
              "<style scoped>\n",
              "    .dataframe tbody tr th:only-of-type {\n",
              "        vertical-align: middle;\n",
              "    }\n",
              "\n",
              "    .dataframe tbody tr th {\n",
              "        vertical-align: top;\n",
              "    }\n",
              "\n",
              "    .dataframe thead th {\n",
              "        text-align: right;\n",
              "    }\n",
              "</style>\n",
              "<table border=\"1\" class=\"dataframe\">\n",
              "  <thead>\n",
              "    <tr style=\"text-align: right;\">\n",
              "      <th></th>\n",
              "      <th>Year</th>\n",
              "      <th>Emission</th>\n",
              "    </tr>\n",
              "  </thead>\n",
              "  <tbody>\n",
              "    <tr>\n",
              "      <th>0</th>\n",
              "      <td>1960</td>\n",
              "      <td>10.770847</td>\n",
              "    </tr>\n",
              "    <tr>\n",
              "      <th>1</th>\n",
              "      <td>1961</td>\n",
              "      <td>10.627898</td>\n",
              "    </tr>\n",
              "    <tr>\n",
              "      <th>2</th>\n",
              "      <td>1962</td>\n",
              "      <td>11.130627</td>\n",
              "    </tr>\n",
              "    <tr>\n",
              "      <th>3</th>\n",
              "      <td>1963</td>\n",
              "      <td>11.132102</td>\n",
              "    </tr>\n",
              "    <tr>\n",
              "      <th>4</th>\n",
              "      <td>1964</td>\n",
              "      <td>12.305370</td>\n",
              "    </tr>\n",
              "  </tbody>\n",
              "</table>\n",
              "</div>\n",
              "      <button class=\"colab-df-convert\" onclick=\"convertToInteractive('df-10f969df-d16a-45ce-9ff0-b97b0d2f7be4')\"\n",
              "              title=\"Convert this dataframe to an interactive table.\"\n",
              "              style=\"display:none;\">\n",
              "        \n",
              "  <svg xmlns=\"http://www.w3.org/2000/svg\" height=\"24px\"viewBox=\"0 0 24 24\"\n",
              "       width=\"24px\">\n",
              "    <path d=\"M0 0h24v24H0V0z\" fill=\"none\"/>\n",
              "    <path d=\"M18.56 5.44l.94 2.06.94-2.06 2.06-.94-2.06-.94-.94-2.06-.94 2.06-2.06.94zm-11 1L8.5 8.5l.94-2.06 2.06-.94-2.06-.94L8.5 2.5l-.94 2.06-2.06.94zm10 10l.94 2.06.94-2.06 2.06-.94-2.06-.94-.94-2.06-.94 2.06-2.06.94z\"/><path d=\"M17.41 7.96l-1.37-1.37c-.4-.4-.92-.59-1.43-.59-.52 0-1.04.2-1.43.59L10.3 9.45l-7.72 7.72c-.78.78-.78 2.05 0 2.83L4 21.41c.39.39.9.59 1.41.59.51 0 1.02-.2 1.41-.59l7.78-7.78 2.81-2.81c.8-.78.8-2.07 0-2.86zM5.41 20L4 18.59l7.72-7.72 1.47 1.35L5.41 20z\"/>\n",
              "  </svg>\n",
              "      </button>\n",
              "      \n",
              "  <style>\n",
              "    .colab-df-container {\n",
              "      display:flex;\n",
              "      flex-wrap:wrap;\n",
              "      gap: 12px;\n",
              "    }\n",
              "\n",
              "    .colab-df-convert {\n",
              "      background-color: #E8F0FE;\n",
              "      border: none;\n",
              "      border-radius: 50%;\n",
              "      cursor: pointer;\n",
              "      display: none;\n",
              "      fill: #1967D2;\n",
              "      height: 32px;\n",
              "      padding: 0 0 0 0;\n",
              "      width: 32px;\n",
              "    }\n",
              "\n",
              "    .colab-df-convert:hover {\n",
              "      background-color: #E2EBFA;\n",
              "      box-shadow: 0px 1px 2px rgba(60, 64, 67, 0.3), 0px 1px 3px 1px rgba(60, 64, 67, 0.15);\n",
              "      fill: #174EA6;\n",
              "    }\n",
              "\n",
              "    [theme=dark] .colab-df-convert {\n",
              "      background-color: #3B4455;\n",
              "      fill: #D2E3FC;\n",
              "    }\n",
              "\n",
              "    [theme=dark] .colab-df-convert:hover {\n",
              "      background-color: #434B5C;\n",
              "      box-shadow: 0px 1px 3px 1px rgba(0, 0, 0, 0.15);\n",
              "      filter: drop-shadow(0px 1px 2px rgba(0, 0, 0, 0.3));\n",
              "      fill: #FFFFFF;\n",
              "    }\n",
              "  </style>\n",
              "\n",
              "      <script>\n",
              "        const buttonEl =\n",
              "          document.querySelector('#df-10f969df-d16a-45ce-9ff0-b97b0d2f7be4 button.colab-df-convert');\n",
              "        buttonEl.style.display =\n",
              "          google.colab.kernel.accessAllowed ? 'block' : 'none';\n",
              "\n",
              "        async function convertToInteractive(key) {\n",
              "          const element = document.querySelector('#df-10f969df-d16a-45ce-9ff0-b97b0d2f7be4');\n",
              "          const dataTable =\n",
              "            await google.colab.kernel.invokeFunction('convertToInteractive',\n",
              "                                                     [key], {});\n",
              "          if (!dataTable) return;\n",
              "\n",
              "          const docLinkHtml = 'Like what you see? Visit the ' +\n",
              "            '<a target=\"_blank\" href=https://colab.research.google.com/notebooks/data_table.ipynb>data table notebook</a>'\n",
              "            + ' to learn more about interactive tables.';\n",
              "          element.innerHTML = '';\n",
              "          dataTable['output_type'] = 'display_data';\n",
              "          await google.colab.output.renderOutput(dataTable, element);\n",
              "          const docLink = document.createElement('div');\n",
              "          docLink.innerHTML = docLinkHtml;\n",
              "          element.appendChild(docLink);\n",
              "        }\n",
              "      </script>\n",
              "    </div>\n",
              "  </div>\n",
              "  "
            ]
          },
          "metadata": {},
          "execution_count": 11
        }
      ]
    },
    {
      "cell_type": "code",
      "source": [
        "# canada_df.isna()\n",
        "canada_df.info()"
      ],
      "metadata": {
        "id": "QmEow89rK9lP",
        "colab": {
          "base_uri": "https://localhost:8080/"
        },
        "outputId": "db62a94d-7a39-4a63-fa0b-aed000a28fc6"
      },
      "execution_count": null,
      "outputs": [
        {
          "output_type": "stream",
          "name": "stdout",
          "text": [
            "<class 'pandas.core.frame.DataFrame'>\n",
            "RangeIndex: 59 entries, 0 to 58\n",
            "Data columns (total 2 columns):\n",
            " #   Column    Non-Null Count  Dtype  \n",
            "---  ------    --------------  -----  \n",
            " 0   Year      59 non-null     object \n",
            " 1   Emission  59 non-null     float64\n",
            "dtypes: float64(1), object(1)\n",
            "memory usage: 1.0+ KB\n"
          ]
        }
      ]
    },
    {
      "cell_type": "code",
      "source": [
        "X = canada_df.Year\n",
        "y = canada_df.Emission"
      ],
      "metadata": {
        "id": "kNswywVAW5Gc"
      },
      "execution_count": null,
      "outputs": []
    },
    {
      "cell_type": "code",
      "source": [
        "plt.rcParams['figure.figsize'] = 15,8\n",
        "plt.plot(X, y)\n",
        "plt.plot(y.rolling(10).mean())\n",
        "plt.xlabel('Year')\n",
        "plt.ylabel('Emission (metric to per capita)')\n",
        "plt.show()"
      ],
      "metadata": {
        "id": "cauFWISvXJRq",
        "colab": {
          "base_uri": "https://localhost:8080/",
          "height": 497
        },
        "outputId": "e4864742-f53b-4e4c-ff76-0d890b202e05"
      },
      "execution_count": null,
      "outputs": [
        {
          "output_type": "display_data",
          "data": {
            "text/plain": [
              "<Figure size 1080x576 with 1 Axes>"
            ],
            "image/png": "[encoded data removed]"
          },
          "metadata": {
            "needs_background": "light"
          }
        }
      ]
    },
    {
      "cell_type": "code",
      "source": [
        "cumulative = np.cumsum(y)\n",
        "plt.plot(cumulative)"
      ],
      "metadata": {
        "colab": {
          "base_uri": "https://localhost:8080/",
          "height": 500
        },
        "id": "6ps17evJ92Gt",
        "outputId": "6b1e0f78-9c51-4d1c-b4d9-65b6e9c32e18"
      },
      "execution_count": null,
      "outputs": [
        {
          "output_type": "execute_result",
          "data": {
            "text/plain": [
              "[<matplotlib.lines.Line2D at 0x7fcb6278b810>]"
            ]
          },
          "metadata": {},
          "execution_count": 53
        },
        {
          "output_type": "display_data",
          "data": {
            "text/plain": [
              "<Figure size 864x576 with 1 Axes>"
            ],
            "image/png": "[encoded data removed]"
          },
          "metadata": {
            "needs_background": "light"
          }
        }
      ]
    },
    {
      "cell_type": "code",
      "source": [
        "y.rolling(10).mean()"
      ],
      "metadata": {
        "id": "eMjK-53m2-Rb"
      },
      "execution_count": null,
      "outputs": []
    },
    {
      "cell_type": "code",
      "source": [
        "X = np.array(X, dtype = 'int32')\n",
        "X = X.reshape(-1,1)\n",
        "X.shape"
      ],
      "metadata": {
        "id": "ulY8O0hQcI9X",
        "colab": {
          "base_uri": "https://localhost:8080/"
        },
        "outputId": "a769611c-0dab-49e5-8840-0c86503eaaf1"
      },
      "execution_count": null,
      "outputs": [
        {
          "output_type": "execute_result",
          "data": {
            "text/plain": [
              "(59, 1)"
            ]
          },
          "metadata": {},
          "execution_count": 21
        }
      ]
    },
    {
      "cell_type": "code",
      "source": [
        "y = np.array(y)\n",
        "y = y.reshape(-1,1)\n",
        "y.shape"
      ],
      "metadata": {
        "id": "LJzB_0iec0Md",
        "colab": {
          "base_uri": "https://localhost:8080/"
        },
        "outputId": "9d73f297-afb5-4c60-c1ed-2761a1567c0d"
      },
      "execution_count": null,
      "outputs": [
        {
          "output_type": "execute_result",
          "data": {
            "text/plain": [
              "(59, 1)"
            ]
          },
          "metadata": {},
          "execution_count": 22
        }
      ]
    },
    {
      "cell_type": "markdown",
      "source": [
        "# Prediction Using Machine Learning"
      ],
      "metadata": {
        "id": "LsMaebRPlHmI"
      }
    },
    {
      "cell_type": "code",
      "source": [
        "from sklearn.model_selection import train_test_split\n",
        "from sklearn.linear_model import LinearRegression\n",
        "from sklearn.tree import DecisionTreeRegressor\n",
        "from sklearn.ensemble import RandomForestRegressor\n",
        "from sklearn.svm import SVR"
      ],
      "metadata": {
        "id": "B-16vDVjLR-o"
      },
      "execution_count": null,
      "outputs": []
    },
    {
      "cell_type": "code",
      "source": [
        "X_train, X_test,y_train, y_test = train_test_split(X,y,test_size = 0.1)"
      ],
      "metadata": {
        "id": "LDUVwEEPbaoV"
      },
      "execution_count": null,
      "outputs": []
    },
    {
      "cell_type": "code",
      "source": [
        "X_train.shape"
      ],
      "metadata": {
        "id": "J9RZyMD7bsze",
        "colab": {
          "base_uri": "https://localhost:8080/"
        },
        "outputId": "9455b50b-a678-41e1-dc93-ac026f3f2fe2"
      },
      "execution_count": null,
      "outputs": [
        {
          "output_type": "execute_result",
          "data": {
            "text/plain": [
              "(53, 1)"
            ]
          },
          "metadata": {},
          "execution_count": 25
        }
      ]
    },
    {
      "cell_type": "code",
      "source": [
        "y_train.shape"
      ],
      "metadata": {
        "id": "lsopWk5mdAeN",
        "colab": {
          "base_uri": "https://localhost:8080/"
        },
        "outputId": "da879599-b2d1-499b-c461-463c7a443163"
      },
      "execution_count": null,
      "outputs": [
        {
          "output_type": "execute_result",
          "data": {
            "text/plain": [
              "(53, 1)"
            ]
          },
          "metadata": {},
          "execution_count": 26
        }
      ]
    },
    {
      "cell_type": "code",
      "source": [
        "LinearReg = LinearRegression()\n",
        "DSTReg = DecisionTreeRegressor(random_state=0)\n",
        "RFReg = RandomForestRegressor(n_estimators=500, random_state=0)\n",
        "SVMReg = SVR(kernel='rbf')\n",
        "\n",
        "LinearReg.fit(X_train,y_train)\n",
        "DSTReg.fit(X_train,y_train)\n",
        "RFReg.fit(X_train,y_train)\n",
        "SVMReg.fit(X_train,y_train)"
      ],
      "metadata": {
        "id": "X4fFTnFFMLVH",
        "colab": {
          "base_uri": "https://localhost:8080/"
        },
        "outputId": "8538e49f-14f9-41c5-d782-50be1b70d4f9"
      },
      "execution_count": null,
      "outputs": [
        {
          "output_type": "execute_result",
          "data": {
            "text/plain": [
              "SVR()"
            ]
          },
          "metadata": {},
          "execution_count": 27
        }
      ]
    },
    {
      "cell_type": "code",
      "source": [
        "linear_y =LinearReg.predict(X_test).reshape(-1, 1)\n",
        "DST_y = DSTReg.predict(X_test).reshape(-1,1)\n",
        "RF_y = RFReg.predict(X_test).reshape(-1,1)\n",
        "SVM_y = SVMReg.predict(X_test).reshape(-1,1)"
      ],
      "metadata": {
        "id": "DGBqsTXFehH0"
      },
      "execution_count": null,
      "outputs": []
    },
    {
      "cell_type": "code",
      "source": [
        "def accuracy(predicted, actual):\n",
        "  diff = actual - predicted\n",
        "  accurate_pred = 0\n",
        "  for x in diff:\n",
        "    if -1<x<1:\n",
        "      accurate_pred +=1\n",
        "  accuracy = accurate_pred/len(actual)\n",
        "\n",
        "  return accuracy"
      ],
      "metadata": {
        "id": "nNKUG8_fgsPx"
      },
      "execution_count": null,
      "outputs": []
    },
    {
      "cell_type": "code",
      "source": [
        "linear_acc = accuracy(linear_y,y_test)\n",
        "DST_acc = accuracy(DST_y, y_test)\n",
        "RF_acc = accuracy(RF_y, y_test)\n",
        "SVM_acc = accuracy(SVM_y, y_test)"
      ],
      "metadata": {
        "id": "pFTQ_kM-hrHa"
      },
      "execution_count": null,
      "outputs": []
    },
    {
      "cell_type": "code",
      "source": [
        "print(RF_acc)"
      ],
      "metadata": {
        "id": "IhDQxO7ziVS5",
        "colab": {
          "base_uri": "https://localhost:8080/"
        },
        "outputId": "512c377c-4139-4d66-cc2b-7ce0c6bc4986"
      },
      "execution_count": null,
      "outputs": [
        {
          "output_type": "stream",
          "name": "stdout",
          "text": [
            "1.0\n"
          ]
        }
      ]
    },
    {
      "cell_type": "code",
      "source": [
        "a = [2019, 2020, 2021, 2022, 2023, 2024, 2025, 2026, 2027, 2028, 2029, 2030]\n",
        "df=pd.DataFrame(a, columns=['Year'])\n",
        "df"
      ],
      "metadata": {
        "id": "hpnXqhb1Mrmp",
        "colab": {
          "base_uri": "https://localhost:8080/",
          "height": 426
        },
        "outputId": "6ae3f05d-4c97-4677-b854-4c9d300807c9"
      },
      "execution_count": null,
      "outputs": [
        {
          "output_type": "execute_result",
          "data": {
            "text/plain": [
              "    Year\n",
              "0   2019\n",
              "1   2020\n",
              "2   2021\n",
              "3   2022\n",
              "4   2023\n",
              "5   2024\n",
              "6   2025\n",
              "7   2026\n",
              "8   2027\n",
              "9   2028\n",
              "10  2029\n",
              "11  2030"
            ],
            "text/html": [
              "\n",
              "  <div id=\"df-ba2f7147-7006-40c4-b2a1-83ca42b4d3f8\">\n",
              "    <div class=\"colab-df-container\">\n",
              "      <div>\n",
              "<style scoped>\n",
              "    .dataframe tbody tr th:only-of-type {\n",
              "        vertical-align: middle;\n",
              "    }\n",
              "\n",
              "    .dataframe tbody tr th {\n",
              "        vertical-align: top;\n",
              "    }\n",
              "\n",
              "    .dataframe thead th {\n",
              "        text-align: right;\n",
              "    }\n",
              "</style>\n",
              "<table border=\"1\" class=\"dataframe\">\n",
              "  <thead>\n",
              "    <tr style=\"text-align: right;\">\n",
              "      <th></th>\n",
              "      <th>Year</th>\n",
              "    </tr>\n",
              "  </thead>\n",
              "  <tbody>\n",
              "    <tr>\n",
              "      <th>0</th>\n",
              "      <td>2019</td>\n",
              "    </tr>\n",
              "    <tr>\n",
              "      <th>1</th>\n",
              "      <td>2020</td>\n",
              "    </tr>\n",
              "    <tr>\n",
              "      <th>2</th>\n",
              "      <td>2021</td>\n",
              "    </tr>\n",
              "    <tr>\n",
              "      <th>3</th>\n",
              "      <td>2022</td>\n",
              "    </tr>\n",
              "    <tr>\n",
              "      <th>4</th>\n",
              "      <td>2023</td>\n",
              "    </tr>\n",
              "    <tr>\n",
              "      <th>5</th>\n",
              "      <td>2024</td>\n",
              "    </tr>\n",
              "    <tr>\n",
              "      <th>6</th>\n",
              "      <td>2025</td>\n",
              "    </tr>\n",
              "    <tr>\n",
              "      <th>7</th>\n",
              "      <td>2026</td>\n",
              "    </tr>\n",
              "    <tr>\n",
              "      <th>8</th>\n",
              "      <td>2027</td>\n",
              "    </tr>\n",
              "    <tr>\n",
              "      <th>9</th>\n",
              "      <td>2028</td>\n",
              "    </tr>\n",
              "    <tr>\n",
              "      <th>10</th>\n",
              "      <td>2029</td>\n",
              "    </tr>\n",
              "    <tr>\n",
              "      <th>11</th>\n",
              "      <td>2030</td>\n",
              "    </tr>\n",
              "  </tbody>\n",
              "</table>\n",
              "</div>\n",
              "      <button class=\"colab-df-convert\" onclick=\"convertToInteractive('df-ba2f7147-7006-40c4-b2a1-83ca42b4d3f8')\"\n",
              "              title=\"Convert this dataframe to an interactive table.\"\n",
              "              style=\"display:none;\">\n",
              "        \n",
              "  <svg xmlns=\"http://www.w3.org/2000/svg\" height=\"24px\"viewBox=\"0 0 24 24\"\n",
              "       width=\"24px\">\n",
              "    <path d=\"M0 0h24v24H0V0z\" fill=\"none\"/>\n",
              "    <path d=\"M18.56 5.44l.94 2.06.94-2.06 2.06-.94-2.06-.94-.94-2.06-.94 2.06-2.06.94zm-11 1L8.5 8.5l.94-2.06 2.06-.94-2.06-.94L8.5 2.5l-.94 2.06-2.06.94zm10 10l.94 2.06.94-2.06 2.06-.94-2.06-.94-.94-2.06-.94 2.06-2.06.94z\"/><path d=\"M17.41 7.96l-1.37-1.37c-.4-.4-.92-.59-1.43-.59-.52 0-1.04.2-1.43.59L10.3 9.45l-7.72 7.72c-.78.78-.78 2.05 0 2.83L4 21.41c.39.39.9.59 1.41.59.51 0 1.02-.2 1.41-.59l7.78-7.78 2.81-2.81c.8-.78.8-2.07 0-2.86zM5.41 20L4 18.59l7.72-7.72 1.47 1.35L5.41 20z\"/>\n",
              "  </svg>\n",
              "      </button>\n",
              "      \n",
              "  <style>\n",
              "    .colab-df-container {\n",
              "      display:flex;\n",
              "      flex-wrap:wrap;\n",
              "      gap: 12px;\n",
              "    }\n",
              "\n",
              "    .colab-df-convert {\n",
              "      background-color: #E8F0FE;\n",
              "      border: none;\n",
              "      border-radius: 50%;\n",
              "      cursor: pointer;\n",
              "      display: none;\n",
              "      fill: #1967D2;\n",
              "      height: 32px;\n",
              "      padding: 0 0 0 0;\n",
              "      width: 32px;\n",
              "    }\n",
              "\n",
              "    .colab-df-convert:hover {\n",
              "      background-color: #E2EBFA;\n",
              "      box-shadow: 0px 1px 2px rgba(60, 64, 67, 0.3), 0px 1px 3px 1px rgba(60, 64, 67, 0.15);\n",
              "      fill: #174EA6;\n",
              "    }\n",
              "\n",
              "    [theme=dark] .colab-df-convert {\n",
              "      background-color: #3B4455;\n",
              "      fill: #D2E3FC;\n",
              "    }\n",
              "\n",
              "    [theme=dark] .colab-df-convert:hover {\n",
              "      background-color: #434B5C;\n",
              "      box-shadow: 0px 1px 3px 1px rgba(0, 0, 0, 0.15);\n",
              "      filter: drop-shadow(0px 1px 2px rgba(0, 0, 0, 0.3));\n",
              "      fill: #FFFFFF;\n",
              "    }\n",
              "  </style>\n",
              "\n",
              "      <script>\n",
              "        const buttonEl =\n",
              "          document.querySelector('#df-ba2f7147-7006-40c4-b2a1-83ca42b4d3f8 button.colab-df-convert');\n",
              "        buttonEl.style.display =\n",
              "          google.colab.kernel.accessAllowed ? 'block' : 'none';\n",
              "\n",
              "        async function convertToInteractive(key) {\n",
              "          const element = document.querySelector('#df-ba2f7147-7006-40c4-b2a1-83ca42b4d3f8');\n",
              "          const dataTable =\n",
              "            await google.colab.kernel.invokeFunction('convertToInteractive',\n",
              "                                                     [key], {});\n",
              "          if (!dataTable) return;\n",
              "\n",
              "          const docLinkHtml = 'Like what you see? Visit the ' +\n",
              "            '<a target=\"_blank\" href=https://colab.research.google.com/notebooks/data_table.ipynb>data table notebook</a>'\n",
              "            + ' to learn more about interactive tables.';\n",
              "          element.innerHTML = '';\n",
              "          dataTable['output_type'] = 'display_data';\n",
              "          await google.colab.output.renderOutput(dataTable, element);\n",
              "          const docLink = document.createElement('div');\n",
              "          docLink.innerHTML = docLinkHtml;\n",
              "          element.appendChild(docLink);\n",
              "        }\n",
              "      </script>\n",
              "    </div>\n",
              "  </div>\n",
              "  "
            ]
          },
          "metadata": {},
          "execution_count": 32
        }
      ]
    },
    {
      "cell_type": "code",
      "source": [
        "LinearRegression= LinearReg.predict(df)\n",
        "DecisionTree = DSTReg.predict(df)\n",
        "RandomForest=RFReg.predict(df)\n",
        "SVM = SVMReg.predict(df)"
      ],
      "metadata": {
        "id": "4-tTgzU0NueU"
      },
      "execution_count": null,
      "outputs": []
    },
    {
      "cell_type": "code",
      "source": [
        "df['LinearRegression'] = LinearRegression\n",
        "df['Decision Tree'] = DecisionTree\n",
        "df['Random Forest'] = RandomForest\n",
        "df['SVM'] = SVM"
      ],
      "metadata": {
        "id": "UKpfxnjlOCSp"
      },
      "execution_count": null,
      "outputs": []
    },
    {
      "cell_type": "code",
      "source": [
        "df.columns"
      ],
      "metadata": {
        "id": "lHb5DmsKQdBr",
        "colab": {
          "base_uri": "https://localhost:8080/"
        },
        "outputId": "a494774c-f0d5-4f24-8ab8-c81d423839af"
      },
      "execution_count": null,
      "outputs": [
        {
          "output_type": "execute_result",
          "data": {
            "text/plain": [
              "Index(['Year', 'LinearRegression', 'Decision Tree', 'Random Forest', 'SVM'], dtype='object')"
            ]
          },
          "metadata": {},
          "execution_count": 35
        }
      ]
    },
    {
      "cell_type": "code",
      "source": [
        "print(df)"
      ],
      "metadata": {
        "id": "4oXaNaZiPyOX",
        "colab": {
          "base_uri": "https://localhost:8080/"
        },
        "outputId": "e83cbc1b-df7f-4d5b-db91-c56406f8a833"
      },
      "execution_count": null,
      "outputs": [
        {
          "output_type": "stream",
          "name": "stdout",
          "text": [
            "    Year  LinearRegression  Decision Tree  Random Forest        SVM\n",
            "0   2019         16.861335      15.497025      15.458702  15.222985\n",
            "1   2020         16.901448      15.497025      15.458702  15.124959\n",
            "2   2021         16.941560      15.497025      15.458702  15.038435\n",
            "3   2022         16.981673      15.497025      15.458702  14.963969\n",
            "4   2023         17.021786      15.497025      15.458702  14.901656\n",
            "5   2024         17.061899      15.497025      15.458702  14.851187\n",
            "6   2025         17.102012      15.497025      15.458702  14.811917\n",
            "7   2026         17.142124      15.497025      15.458702  14.782936\n",
            "8   2027         17.182237      15.497025      15.458702  14.763147\n",
            "9   2028         17.222350      15.497025      15.458702  14.751336\n",
            "10  2029         17.262463      15.497025      15.458702  14.746237\n",
            "11  2030         17.302576      15.497025      15.458702  14.746592\n"
          ]
        }
      ]
    },
    {
      "cell_type": "code",
      "source": [
        "df.plot.line(x=\"Year\", title=\"Comparison Between Linear Regression, Decision Tree, \\nRandom Forest, Support Vector Machine for Predictive Modeling\\n\")"
      ],
      "metadata": {
        "id": "xt4AEU5HnXc4",
        "colab": {
          "base_uri": "https://localhost:8080/",
          "height": 278
        },
        "outputId": "274c19e1-1dc7-4f9a-b363-94f3341ed1e6"
      },
      "execution_count": null,
      "outputs": [
        {
          "output_type": "execute_result",
          "data": {
            "text/plain": [
              "<matplotlib.axes._subplots.AxesSubplot at 0x7fe55a078210>"
            ]
          },
          "metadata": {},
          "execution_count": 36
        },
        {
          "output_type": "display_data",
          "data": {
            "text/plain": [
              "<Figure size 540x252 with 1 Axes>"
            ],
            "image/png": "[encoded data removed]"
          },
          "metadata": {
            "needs_background": "light"
          }
        }
      ]
    },
    {
      "cell_type": "code",
      "source": [
        "plt.rcParams['figure.figsize'] = 12,8\n",
        "\n",
        "xpos = np.arange(len(df.Year))\n",
        "\n",
        "plt.yticks(list(range(1, 30, 2)))\n",
        "plt.xticks(xpos, df.Year)\n",
        "plt.bar(xpos+0.3, df['LinearRegression'], label='Linear Regression', width=0.3)\n",
        "plt.bar(xpos, df['SVM'], label='SVM', width=0.3)\n",
        "plt.bar(xpos-0.3, df['Random Forest'], label='Random Forest', width=0.3)\n",
        "plt.legend()"
      ],
      "metadata": {
        "id": "QSmI-ObQBcsB",
        "colab": {
          "base_uri": "https://localhost:8080/",
          "height": 500
        },
        "outputId": "7a4926aa-979f-43c9-8349-8869430a160e"
      },
      "execution_count": null,
      "outputs": [
        {
          "output_type": "execute_result",
          "data": {
            "text/plain": [
              "<matplotlib.legend.Legend at 0x7fcb62297a10>"
            ]
          },
          "metadata": {},
          "execution_count": 51
        },
        {
          "output_type": "display_data",
          "data": {
            "text/plain": [
              "<Figure size 864x576 with 1 Axes>"
            ],
            "image/png": "[encoded data removed]"
          },
          "metadata": {
            "needs_background": "light"
          }
        }
      ]
    },
    {
      "cell_type": "code",
      "source": [
        "cumulative = np.cumsum(df.iloc[:, 1:])"
      ],
      "metadata": {
        "id": "06QHrKb04TjO"
      },
      "execution_count": null,
      "outputs": []
    },
    {
      "cell_type": "code",
      "source": [
        "import seaborn as sns"
      ],
      "metadata": {
        "id": "Jh1EGOZe-st6"
      },
      "execution_count": null,
      "outputs": []
    },
    {
      "cell_type": "code",
      "source": [
        "plt.plot(df.Year, cumulative)\n",
        "plt.xlabel('Year')\n",
        "plt.ylabel('Total CO2 Emission')"
      ],
      "metadata": {
        "colab": {
          "base_uri": "https://localhost:8080/",
          "height": 514
        },
        "id": "Xq_l3-Zi-Gy-",
        "outputId": "e9090c2d-4161-420f-e8c8-39ac5c4dfe04"
      },
      "execution_count": null,
      "outputs": [
        {
          "output_type": "execute_result",
          "data": {
            "text/plain": [
              "Text(0, 0.5, 'Total CO2 Emission')"
            ]
          },
          "metadata": {},
          "execution_count": 65
        },
        {
          "output_type": "display_data",
          "data": {
            "text/plain": [
              "<Figure size 864x576 with 1 Axes>"
            ],
            "image/png": "[encoded data removed]"
          },
          "metadata": {
            "needs_background": "light"
          }
        }
      ]
    }
  ]
}